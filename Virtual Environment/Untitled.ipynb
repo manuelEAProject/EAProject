{
 "cells": [
  {
   "cell_type": "code",
   "execution_count": 44,
   "metadata": {},
   "outputs": [
    {
     "name": "stderr",
     "output_type": "stream",
     "text": [
      "ASCII STL files should start with solid <space>. The application that produced this STL file may be faulty, please report this error. The erroneous line: b'solid'\n"
     ]
    }
   ],
   "source": [
    "import numpy as np\n",
    "from stl import mesh\n",
    "\n",
    "# Using an existing stl file:\n",
    "your_mesh = mesh.Mesh.from_file('test2.stl')\n",
    "# Creating an array with all vertices of all triangles:\n",
    "allvertices = np.array([your_mesh.v0,your_mesh.v1,your_mesh.v2])\n",
    "# Numpy-Concatenate to connect the three arrays with each other \n",
    "allvertices = np.concatenate(allvertices)\n",
    "# Removing duplicate vectors\n",
    "allvertices = np.unique(allvertices,axis=0)\n",
    "#print(allvertices)"
   ]
  },
  {
   "cell_type": "code",
   "execution_count": 48,
   "metadata": {},
   "outputs": [
    {
     "name": "stdout",
     "output_type": "stream",
     "text": [
      "[-22.712824 196.84839   19.712736] [-29.020699 287.05518  -46.667816] [-25.137548 231.52357  -46.667816]\n"
     ]
    }
   ],
   "source": [
    "print(your_mesh.v0[0],your_mesh.v1[0],your_mesh.v2[0])"
   ]
  },
  {
   "cell_type": "code",
   "execution_count": 50,
   "metadata": {},
   "outputs": [
    {
     "name": "stdout",
     "output_type": "stream",
     "text": [
      "[[[-22.712824  196.84839    19.712736 ]\n",
      "  [-29.020699  287.05518   -46.667816 ]\n",
      "  [-25.137548  231.52357   -46.667816 ]]\n",
      "\n",
      " [[-22.712824  196.84839    19.712736 ]\n",
      "  [-25.137548  231.52357   -46.667816 ]\n",
      "  [-21.35305   177.40273    -6.8418593]]\n",
      "\n",
      " [[-13.482177  279.87778   -68.91176  ]\n",
      "  [-13.063952  273.8969    -77.07914  ]\n",
      "  [-12.28784   262.79797   -68.91176  ]]\n",
      "\n",
      " [[-12.28784   262.79797   -68.91176  ]\n",
      "  [-13.321665  257.459     -65.05504  ]\n",
      "  [-13.482177  279.87778   -68.91176  ]]\n",
      "\n",
      " [[-13.321665  257.459     -65.05504  ]\n",
      "  [-15.079981  282.6041    -65.05504  ]\n",
      "  [-13.482177  279.87778   -68.91176  ]]\n",
      "\n",
      " [[-24.103724  236.86252   -50.52454  ]\n",
      "  [-29.020699  287.05518   -46.667816 ]\n",
      "  [-27.986874  292.39413   -50.52454  ]]\n",
      "\n",
      " [[-24.103724  236.86252   -50.52454  ]\n",
      "  [-25.137548  231.52357   -46.667816 ]\n",
      "  [-29.020699  287.05518   -46.667816 ]]\n",
      "\n",
      " [[-27.986874  292.39413   -50.52454  ]\n",
      "  [-15.079981  282.6041    -65.05504  ]\n",
      "  [-13.321665  257.459     -65.05504  ]]\n",
      "\n",
      " [[-27.986874  292.39413   -50.52454  ]\n",
      "  [-13.321665  257.459     -65.05504  ]\n",
      "  [-24.103724  236.86252   -50.52454  ]]]\n"
     ]
    }
   ],
   "source": [
    "print(your_mesh.vectors)"
   ]
  },
  {
   "cell_type": "code",
   "execution_count": null,
   "metadata": {},
   "outputs": [],
   "source": []
  }
 ],
 "metadata": {
  "kernelspec": {
   "display_name": "Python 3",
   "language": "python",
   "name": "python3"
  },
  "language_info": {
   "codemirror_mode": {
    "name": "ipython",
    "version": 3
   },
   "file_extension": ".py",
   "mimetype": "text/x-python",
   "name": "python",
   "nbconvert_exporter": "python",
   "pygments_lexer": "ipython3",
   "version": "3.7.0"
  }
 },
 "nbformat": 4,
 "nbformat_minor": 2
}

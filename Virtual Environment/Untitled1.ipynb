{
 "cells": [
  {
   "cell_type": "code",
   "execution_count": 15,
   "metadata": {},
   "outputs": [],
   "source": [
    "import math"
   ]
  },
  {
   "cell_type": "code",
   "execution_count": 27,
   "metadata": {},
   "outputs": [
    {
     "name": "stdout",
     "output_type": "stream",
     "text": [
      "[135.0, 139.5, 144.0, 148.5, 153.0, 157.5, 162.0, 166.5, 171.0, 175.5, 180.0, 4.5, 9.0, 13.5, 18.0, 22.5, 27.0, 31.5, 36.0, 40.5, 45.0]\n",
      "21\n"
     ]
    }
   ],
   "source": [
    "alphalist=[]\n",
    "for i  in range(21):\n",
    "    \n",
    "    if i < 11:\n",
    "        alphalist.append(135+i*4.5)\n",
    "    if i > 10:\n",
    "        alphalist.append((4.5 * (i-10)))\n",
    "print(alphalist)\n",
    "print(len(alphalist))"
   ]
  },
  {
   "cell_type": "code",
   "execution_count": 28,
   "metadata": {},
   "outputs": [
    {
     "name": "stdout",
     "output_type": "stream",
     "text": [
      "[135.0, 135.45, 136.8, 139.05, 142.2, 146.25, 151.2, 157.05, 163.8, 171.45, 180.0, 0.45, 1.8, 4.05, 7.2, 11.25, 16.2, 22.05, 28.8, 36.45, 45.0]\n"
     ]
    }
   ],
   "source": [
    "alphalist=[]\n",
    "for i  in range(21):\n",
    "    \n",
    "    if i < 11:\n",
    "        alphalist.append(135+i**2*0.45)\n",
    "    if i > 10:\n",
    "        alphalist.append((0.45 * (i-10)**2))\n",
    "print(alphalist)"
   ]
  },
  {
   "cell_type": "code",
   "execution_count": null,
   "metadata": {},
   "outputs": [],
   "source": []
  }
 ],
 "metadata": {
  "kernelspec": {
   "display_name": "Python 3",
   "language": "python",
   "name": "python3"
  },
  "language_info": {
   "codemirror_mode": {
    "name": "ipython",
    "version": 3
   },
   "file_extension": ".py",
   "mimetype": "text/x-python",
   "name": "python",
   "nbconvert_exporter": "python",
   "pygments_lexer": "ipython3",
   "version": "3.7.0"
  }
 },
 "nbformat": 4,
 "nbformat_minor": 2
}
